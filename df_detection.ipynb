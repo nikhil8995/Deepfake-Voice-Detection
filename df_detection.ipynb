{
 "cells": [
  {
   "cell_type": "code",
   "execution_count": 1,
   "id": "4e0dc255",
   "metadata": {},
   "outputs": [
    {
     "name": "stdout",
     "output_type": "stream",
     "text": [
      "Using device: cuda\n"
     ]
    },
    {
     "name": "stderr",
     "output_type": "stream",
     "text": [
      "C:\\Users\\nikhi\\AppData\\Local\\Temp\\ipykernel_20424\\1535039857.py:5: UserWarning: torchaudio._backend.set_audio_backend has been deprecated. With dispatcher enabled, this function is no-op. You can remove the function call.\n",
      "  torchaudio.set_audio_backend(\"ffmpeg\")  # Enable mp3 support\n"
     ]
    }
   ],
   "source": [
    "import os\n",
    "import torch\n",
    "torch.manual_seed(42)\n",
    "import torchaudio\n",
    "torchaudio.set_audio_backend(\"ffmpeg\")  # Enable mp3 support\n",
    "import numpy as np\n",
    "from torch.utils.data import Dataset, DataLoader, WeightedRandomSampler\n",
    "from torch import nn, optim\n",
    "from tqdm import tqdm\n",
    " # For progress bar\n",
    "\n",
    "# Check for CUDA\n",
    "device = torch.device(\"cuda\" if torch.cuda.is_available() else \"cpu\")\n",
    "print(f\"Using device: {device}\")\n"
   ]
  },
  {
   "cell_type": "code",
   "execution_count": 2,
   "id": "b882cb64",
   "metadata": {},
   "outputs": [],
   "source": [
    "class VoiceDataset(Dataset):\n",
    "    def __init__(self, real_dir, fake_dir, transform, max_frames=100):\n",
    "        self.file_paths = []\n",
    "        self.labels = []\n",
    "        for f in os.listdir(real_dir):\n",
    "            self.file_paths.append(os.path.join(real_dir, f))\n",
    "            self.labels.append(0)  # 0 = Real\n",
    "        for f in os.listdir(fake_dir):\n",
    "            self.file_paths.append(os.path.join(fake_dir, f))\n",
    "            self.labels.append(1)  # 1 = Fake\n",
    "        self.transform = transform\n",
    "        self.max_frames = max_frames\n",
    "\n",
    "    def __len__(self):\n",
    "        return len(self.file_paths)\n",
    "\n",
    "    def __getitem__(self, idx):\n",
    "        filepath = self.file_paths[idx]\n",
    "        label = self.labels[idx]\n",
    "        waveform, sr = torchaudio.load(filepath)\n",
    "        waveform = waveform.mean(dim=0, keepdim=True)  # Enforce mono\n",
    "        if sr != 16000:\n",
    "            waveform = torchaudio.transforms.Resample(sr, 16000)(waveform)\n",
    "        mfcc = self.transform(waveform)  # [1, n_mfcc, frames]\n",
    "        if mfcc.size(2) < self.max_frames:\n",
    "            pad_amt = self.max_frames - mfcc.size(2)\n",
    "            mfcc = nn.functional.pad(mfcc, (0, pad_amt))\n",
    "        else:\n",
    "            mfcc = mfcc[:, :, :self.max_frames]\n",
    "        return mfcc, label\n",
    "\n",
    "# Paths and parameters\n",
    "real_dir = r\"C:\\Users\\nikhi\\OneDrive\\Desktop\\dsp\\Deepfake\\KAGGLE\\Audio\\Real\"\n",
    "fake_dir = r\"C:\\Users\\nikhi\\OneDrive\\Desktop\\dsp\\Deepfake\\KAGGLE\\Audio\\Fake\"\n",
    "sample_rate = 16000\n",
    "n_mfcc = 40\n",
    "max_frames = 100\n",
    "batch_size = 4\n",
    "\n",
    "# MFCC transform\n",
    "mfcc_transform = torchaudio.transforms.MFCC(\n",
    "    sample_rate=sample_rate,\n",
    "    n_mfcc=n_mfcc,\n",
    "    melkwargs={\"n_fft\": 400, \"hop_length\": 160, \"n_mels\": 40}\n",
    ")\n",
    "\n",
    "# Instantiate dataset\n",
    "dataset = VoiceDataset(real_dir, fake_dir, mfcc_transform, max_frames)\n",
    "\n",
    "# Compute sample weights to handle imbalance\n",
    "class_counts = np.bincount(dataset.labels)\n",
    "class_weights = 1.0 / class_counts\n",
    "sample_weights = [class_weights[label] for label in dataset.labels]\n",
    "sampler = WeightedRandomSampler(sample_weights, num_samples=len(sample_weights), replacement=True)\n",
    "\n",
    "dataloader = DataLoader(dataset, batch_size=batch_size, sampler=sampler)\n"
   ]
  },
  {
   "cell_type": "code",
   "execution_count": 3,
   "id": "250feabb",
   "metadata": {},
   "outputs": [],
   "source": [
    "class CNNVoiceDetector(nn.Module):\n",
    "    def __init__(self):\n",
    "        super(CNNVoiceDetector, self).__init__()\n",
    "        self.conv1 = nn.Conv2d(1, 16, kernel_size=3, padding=1)\n",
    "        self.bn1 = nn.BatchNorm2d(16)\n",
    "        self.pool = nn.MaxPool2d(2, 2)\n",
    "        self.conv2 = nn.Conv2d(16, 32, kernel_size=3, padding=1)\n",
    "        self.bn2 = nn.BatchNorm2d(32)\n",
    "        self.global_pool = nn.AdaptiveAvgPool2d((1, 1))\n",
    "        self.fc = nn.Linear(32, 2)\n",
    "\n",
    "    def forward(self, x):\n",
    "        x = self.pool(torch.relu(self.bn1(self.conv1(x))))\n",
    "        x = self.pool(torch.relu(self.bn2(self.conv2(x))))\n",
    "        x = self.global_pool(x)\n",
    "        x = x.view(x.size(0), -1)\n",
    "        return self.fc(x)\n",
    "\n",
    "model = CNNVoiceDetector().to(device)\n"
   ]
  },
  {
   "cell_type": "code",
   "execution_count": 4,
   "id": "20414beb",
   "metadata": {},
   "outputs": [
    {
     "data": {
      "text/plain": [
       "CNNVoiceDetector(\n",
       "  (conv1): Conv2d(1, 16, kernel_size=(3, 3), stride=(1, 1), padding=(1, 1))\n",
       "  (bn1): BatchNorm2d(16, eps=1e-05, momentum=0.1, affine=True, track_running_stats=True)\n",
       "  (pool): MaxPool2d(kernel_size=2, stride=2, padding=0, dilation=1, ceil_mode=False)\n",
       "  (conv2): Conv2d(16, 32, kernel_size=(3, 3), stride=(1, 1), padding=(1, 1))\n",
       "  (bn2): BatchNorm2d(32, eps=1e-05, momentum=0.1, affine=True, track_running_stats=True)\n",
       "  (global_pool): AdaptiveAvgPool2d(output_size=(1, 1))\n",
       "  (fc): Linear(in_features=32, out_features=2, bias=True)\n",
       ")"
      ]
     },
     "execution_count": 4,
     "metadata": {},
     "output_type": "execute_result"
    }
   ],
   "source": [
    "model.load_state_dict(torch.load('deepfake_voice_detector.pth', map_location=device))\n",
    "model.to(device)\n"
   ]
  },
  {
   "cell_type": "code",
   "execution_count": 9,
   "id": "7149928c",
   "metadata": {},
   "outputs": [
    {
     "name": "stdout",
     "output_type": "stream",
     "text": [
      "\n",
      "Epoch 1/25\n"
     ]
    },
    {
     "name": "stderr",
     "output_type": "stream",
     "text": [
      "Training: 100%|██████████| 16/16 [00:23<00:00,  1.46s/batch]\n"
     ]
    },
    {
     "name": "stdout",
     "output_type": "stream",
     "text": [
      "Epoch 1 Completed - Loss: 0.2885, Accuracy: 95.31%\n",
      "\n",
      "Epoch 2/25\n"
     ]
    },
    {
     "name": "stderr",
     "output_type": "stream",
     "text": [
      "Training: 100%|██████████| 16/16 [00:25<00:00,  1.60s/batch]\n"
     ]
    },
    {
     "name": "stdout",
     "output_type": "stream",
     "text": [
      "Epoch 2 Completed - Loss: 0.2908, Accuracy: 85.94%\n",
      "\n",
      "Epoch 3/25\n"
     ]
    },
    {
     "name": "stderr",
     "output_type": "stream",
     "text": [
      "Training: 100%|██████████| 16/16 [00:25<00:00,  1.61s/batch]\n"
     ]
    },
    {
     "name": "stdout",
     "output_type": "stream",
     "text": [
      "Epoch 3 Completed - Loss: 0.3212, Accuracy: 87.50%\n",
      "\n",
      "Epoch 4/25\n"
     ]
    },
    {
     "name": "stderr",
     "output_type": "stream",
     "text": [
      "Training: 100%|██████████| 16/16 [00:25<00:00,  1.58s/batch]\n"
     ]
    },
    {
     "name": "stdout",
     "output_type": "stream",
     "text": [
      "Epoch 4 Completed - Loss: 0.2452, Accuracy: 92.19%\n",
      "\n",
      "Epoch 5/25\n"
     ]
    },
    {
     "name": "stderr",
     "output_type": "stream",
     "text": [
      "Training: 100%|██████████| 16/16 [00:23<00:00,  1.44s/batch]\n"
     ]
    },
    {
     "name": "stdout",
     "output_type": "stream",
     "text": [
      "Epoch 5 Completed - Loss: 0.2099, Accuracy: 93.75%\n",
      "\n",
      "Epoch 6/25\n"
     ]
    },
    {
     "name": "stderr",
     "output_type": "stream",
     "text": [
      "Training: 100%|██████████| 16/16 [00:24<00:00,  1.51s/batch]\n"
     ]
    },
    {
     "name": "stdout",
     "output_type": "stream",
     "text": [
      "Epoch 6 Completed - Loss: 0.1981, Accuracy: 95.31%\n",
      "\n",
      "Epoch 7/25\n"
     ]
    },
    {
     "name": "stderr",
     "output_type": "stream",
     "text": [
      "Training: 100%|██████████| 16/16 [00:22<00:00,  1.44s/batch]\n"
     ]
    },
    {
     "name": "stdout",
     "output_type": "stream",
     "text": [
      "Epoch 7 Completed - Loss: 0.2878, Accuracy: 90.62%\n",
      "\n",
      "Epoch 8/25\n"
     ]
    },
    {
     "name": "stderr",
     "output_type": "stream",
     "text": [
      "Training: 100%|██████████| 16/16 [00:26<00:00,  1.68s/batch]\n"
     ]
    },
    {
     "name": "stdout",
     "output_type": "stream",
     "text": [
      "Epoch 8 Completed - Loss: 0.2594, Accuracy: 92.19%\n",
      "\n",
      "Epoch 9/25\n"
     ]
    },
    {
     "name": "stderr",
     "output_type": "stream",
     "text": [
      "Training: 100%|██████████| 16/16 [00:26<00:00,  1.67s/batch]\n"
     ]
    },
    {
     "name": "stdout",
     "output_type": "stream",
     "text": [
      "Epoch 9 Completed - Loss: 0.3199, Accuracy: 89.06%\n",
      "\n",
      "Epoch 10/25\n"
     ]
    },
    {
     "name": "stderr",
     "output_type": "stream",
     "text": [
      "Training: 100%|██████████| 16/16 [00:22<00:00,  1.40s/batch]\n"
     ]
    },
    {
     "name": "stdout",
     "output_type": "stream",
     "text": [
      "Epoch 10 Completed - Loss: 0.2371, Accuracy: 95.31%\n",
      "\n",
      "Epoch 11/25\n"
     ]
    },
    {
     "name": "stderr",
     "output_type": "stream",
     "text": [
      "Training: 100%|██████████| 16/16 [00:22<00:00,  1.43s/batch]\n"
     ]
    },
    {
     "name": "stdout",
     "output_type": "stream",
     "text": [
      "Epoch 11 Completed - Loss: 0.3206, Accuracy: 89.06%\n",
      "\n",
      "Epoch 12/25\n"
     ]
    },
    {
     "name": "stderr",
     "output_type": "stream",
     "text": [
      "Training: 100%|██████████| 16/16 [00:24<00:00,  1.53s/batch]\n"
     ]
    },
    {
     "name": "stdout",
     "output_type": "stream",
     "text": [
      "Epoch 12 Completed - Loss: 0.2771, Accuracy: 92.19%\n",
      "\n",
      "Epoch 13/25\n"
     ]
    },
    {
     "name": "stderr",
     "output_type": "stream",
     "text": [
      "Training: 100%|██████████| 16/16 [00:24<00:00,  1.53s/batch]\n"
     ]
    },
    {
     "name": "stdout",
     "output_type": "stream",
     "text": [
      "Epoch 13 Completed - Loss: 0.2634, Accuracy: 92.19%\n",
      "\n",
      "Epoch 14/25\n"
     ]
    },
    {
     "name": "stderr",
     "output_type": "stream",
     "text": [
      "Training: 100%|██████████| 16/16 [00:26<00:00,  1.64s/batch]\n"
     ]
    },
    {
     "name": "stdout",
     "output_type": "stream",
     "text": [
      "Epoch 14 Completed - Loss: 0.2891, Accuracy: 93.75%\n",
      "\n",
      "Epoch 15/25\n"
     ]
    },
    {
     "name": "stderr",
     "output_type": "stream",
     "text": [
      "Training: 100%|██████████| 16/16 [00:28<00:00,  1.80s/batch]\n"
     ]
    },
    {
     "name": "stdout",
     "output_type": "stream",
     "text": [
      "Epoch 15 Completed - Loss: 0.2985, Accuracy: 89.06%\n",
      "\n",
      "Epoch 16/25\n"
     ]
    },
    {
     "name": "stderr",
     "output_type": "stream",
     "text": [
      "Training: 100%|██████████| 16/16 [00:26<00:00,  1.68s/batch]\n"
     ]
    },
    {
     "name": "stdout",
     "output_type": "stream",
     "text": [
      "Epoch 16 Completed - Loss: 0.2661, Accuracy: 89.06%\n",
      "\n",
      "Epoch 17/25\n"
     ]
    },
    {
     "name": "stderr",
     "output_type": "stream",
     "text": [
      "Training: 100%|██████████| 16/16 [00:29<00:00,  1.82s/batch]\n"
     ]
    },
    {
     "name": "stdout",
     "output_type": "stream",
     "text": [
      "Epoch 17 Completed - Loss: 0.1818, Accuracy: 98.44%\n",
      "\n",
      "Epoch 18/25\n"
     ]
    },
    {
     "name": "stderr",
     "output_type": "stream",
     "text": [
      "Training: 100%|██████████| 16/16 [00:28<00:00,  1.78s/batch]\n"
     ]
    },
    {
     "name": "stdout",
     "output_type": "stream",
     "text": [
      "Epoch 18 Completed - Loss: 0.2128, Accuracy: 95.31%\n",
      "\n",
      "Epoch 19/25\n"
     ]
    },
    {
     "name": "stderr",
     "output_type": "stream",
     "text": [
      "Training: 100%|██████████| 16/16 [00:24<00:00,  1.55s/batch]\n"
     ]
    },
    {
     "name": "stdout",
     "output_type": "stream",
     "text": [
      "Epoch 19 Completed - Loss: 0.2074, Accuracy: 96.88%\n",
      "\n",
      "Epoch 20/25\n"
     ]
    },
    {
     "name": "stderr",
     "output_type": "stream",
     "text": [
      "Training: 100%|██████████| 16/16 [00:23<00:00,  1.45s/batch]\n"
     ]
    },
    {
     "name": "stdout",
     "output_type": "stream",
     "text": [
      "Epoch 20 Completed - Loss: 0.2189, Accuracy: 93.75%\n",
      "\n",
      "Epoch 21/25\n"
     ]
    },
    {
     "name": "stderr",
     "output_type": "stream",
     "text": [
      "Training: 100%|██████████| 16/16 [00:25<00:00,  1.57s/batch]\n"
     ]
    },
    {
     "name": "stdout",
     "output_type": "stream",
     "text": [
      "Epoch 21 Completed - Loss: 0.2636, Accuracy: 90.62%\n",
      "\n",
      "Epoch 22/25\n"
     ]
    },
    {
     "name": "stderr",
     "output_type": "stream",
     "text": [
      "Training: 100%|██████████| 16/16 [00:25<00:00,  1.59s/batch]\n"
     ]
    },
    {
     "name": "stdout",
     "output_type": "stream",
     "text": [
      "Epoch 22 Completed - Loss: 0.2402, Accuracy: 93.75%\n",
      "\n",
      "Epoch 23/25\n"
     ]
    },
    {
     "name": "stderr",
     "output_type": "stream",
     "text": [
      "Training: 100%|██████████| 16/16 [00:26<00:00,  1.67s/batch]\n"
     ]
    },
    {
     "name": "stdout",
     "output_type": "stream",
     "text": [
      "Epoch 23 Completed - Loss: 0.2251, Accuracy: 93.75%\n",
      "\n",
      "Epoch 24/25\n"
     ]
    },
    {
     "name": "stderr",
     "output_type": "stream",
     "text": [
      "Training: 100%|██████████| 16/16 [00:25<00:00,  1.61s/batch]\n"
     ]
    },
    {
     "name": "stdout",
     "output_type": "stream",
     "text": [
      "Epoch 24 Completed - Loss: 0.2148, Accuracy: 95.31%\n",
      "\n",
      "Epoch 25/25\n"
     ]
    },
    {
     "name": "stderr",
     "output_type": "stream",
     "text": [
      "Training: 100%|██████████| 16/16 [00:26<00:00,  1.68s/batch]"
     ]
    },
    {
     "name": "stdout",
     "output_type": "stream",
     "text": [
      "Epoch 25 Completed - Loss: 0.1666, Accuracy: 96.88%\n",
      "\n",
      "Best Accuracy: 98.44% at Epoch 17\n"
     ]
    },
    {
     "name": "stderr",
     "output_type": "stream",
     "text": [
      "\n"
     ]
    }
   ],
   "source": [
    "# Cell 4: Training loop (prints loss and accuracy after each epoch)\n",
    "num_epochs = 25  # Increased the number of epochs\n",
    "\n",
    "criterion = nn.CrossEntropyLoss()\n",
    "optimizer = optim.Adam(model.parameters(), lr=0.001)\n",
    "\n",
    "best_acc = 0.0  # To track the best accuracy\n",
    "best_epoch = 0  # To track the epoch with best accuracy\n",
    "\n",
    "for epoch in range(num_epochs):\n",
    "    model.train()\n",
    "    running_loss = 0.0\n",
    "    correct = 0\n",
    "    total = 0\n",
    "    print(f\"\\nEpoch {epoch+1}/{num_epochs}\")\n",
    "    \n",
    "    for inputs, labels in tqdm(dataloader, desc=\"Training\", unit=\"batch\"):\n",
    "        inputs, labels = inputs.to(device), labels.to(device)\n",
    "        optimizer.zero_grad()\n",
    "        outputs = model(inputs)\n",
    "        loss = criterion(outputs, labels)\n",
    "        loss.backward()\n",
    "        optimizer.step()\n",
    "        \n",
    "        running_loss += loss.item() * inputs.size(0)\n",
    "        _, preds = torch.max(outputs, 1)\n",
    "        correct += (preds == labels).sum().item()\n",
    "        total += labels.size(0)\n",
    "    \n",
    "    epoch_loss = running_loss / total\n",
    "    epoch_acc = 100.0 * correct / total\n",
    "    print(f\"Epoch {epoch+1} Completed - Loss: {epoch_loss:.4f}, Accuracy: {epoch_acc:.2f}%\")\n",
    "    \n",
    "    # Track the best accuracy and the corresponding epoch\n",
    "    if epoch_acc > best_acc:\n",
    "        best_acc = epoch_acc\n",
    "        best_epoch = epoch + 1  # Store the epoch number (1-based)\n",
    "\n",
    "# After training, print the best epoch and its accuracy\n",
    "print(f\"\\nBest Accuracy: {best_acc:.2f}% at Epoch {best_epoch}\")\n"
   ]
  },
  {
   "cell_type": "code",
   "execution_count": 12,
   "id": "81d7572f",
   "metadata": {},
   "outputs": [
    {
     "name": "stdout",
     "output_type": "stream",
     "text": [
      "Model saved to deepfake_voice_detector.pth\n"
     ]
    }
   ],
   "source": [
    "torch.save(model.state_dict(), \"deepfake_voice_detector.pth\")\n",
    "print(\"Model saved to deepfake_voice_detector.pth\")"
   ]
  },
  {
   "cell_type": "code",
   "execution_count": null,
   "id": "2ec355ce",
   "metadata": {},
   "outputs": [],
   "source": [
    "# ----- Prediction function using CNNVoiceDetector -----\n",
    "def predict(file_path, transform, max_frames=100):\n",
    "    # Instantiate and load your model\n",
    "    model = CNNVoiceDetector().to(device)\n",
    "    model.load_state_dict(torch.load(\"deepfake_voice_detector.pth\", map_location=device))\n",
    "    model.eval()\n",
    "\n",
    "    try:\n",
    "        waveform, sr = torchaudio.load(file_path)\n",
    "    except Exception as e:\n",
    "        return f\"Error loading audio: {e}\"\n",
    "\n",
    "    waveform = waveform.mean(dim=0, keepdim=True)\n",
    "    if sr != sample_rate:\n",
    "        waveform = torchaudio.transforms.Resample(sr, sample_rate)(waveform)\n",
    "    mfcc = transform(waveform)\n",
    "    if mfcc.size(2) < max_frames:\n",
    "        mfcc = nn.functional.pad(mfcc, (0, max_frames - mfcc.size(2)))\n",
    "    else:\n",
    "        mfcc = mfcc[:, :, :max_frames]\n",
    "    mfcc = mfcc.to(device).unsqueeze(0)\n",
    "\n",
    "    with torch.no_grad():\n",
    "        outputs = model(mfcc)\n",
    "        _, pred = torch.max(outputs, 1)\n",
    "    return \"Real\" if pred.item() == 0 else \"Fake\"\n",
    "\n"
   ]
  },
  {
   "cell_type": "code",
   "execution_count": 20,
   "id": "f46f2174",
   "metadata": {},
   "outputs": [
    {
     "name": "stdout",
     "output_type": "stream",
     "text": [
      "Real\n"
     ]
    }
   ],
   "source": [
    "# Example usage:\n",
    "print(predict(r\"linus-original-DEMO.mp3\", mfcc_transform))"
   ]
  },
  {
   "cell_type": "code",
   "execution_count": 6,
   "id": "181254a9",
   "metadata": {},
   "outputs": [
    {
     "data": {
      "text/plain": [
       "<Figure size 800x600 with 0 Axes>"
      ]
     },
     "metadata": {},
     "output_type": "display_data"
    },
    {
     "data": {
      "image/png": "[encoded data removed]",
      "text/plain": [
       "<Figure size 640x480 with 2 Axes>"
      ]
     },
     "metadata": {},
     "output_type": "display_data"
    }
   ],
   "source": [
    "import numpy as np\n",
    "import matplotlib.pyplot as plt\n",
    "from sklearn.metrics import confusion_matrix, ConfusionMatrixDisplay\n",
    "import torch\n",
    "from torch.utils.data import DataLoader\n",
    "\n",
    "# Create a DataLoader for evaluation (without sampler to avoid bias)\n",
    "eval_dataloader = DataLoader(dataset, batch_size=batch_size, shuffle=False)\n",
    "\n",
    "# Set model to evaluation mode\n",
    "model.eval()\n",
    "\n",
    "# Collect predictions and true labels\n",
    "all_preds = []\n",
    "all_labels = []\n",
    "\n",
    "with torch.no_grad():\n",
    "    for inputs, labels in eval_dataloader:\n",
    "        inputs, labels = inputs.to(device), labels.to(device)\n",
    "        outputs = model(inputs)\n",
    "        _, preds = torch.max(outputs, 1)\n",
    "        all_preds.extend(preds.cpu().numpy())\n",
    "        all_labels.extend(labels.cpu().numpy())\n",
    "\n",
    "# Compute confusion matrix\n",
    "cm = confusion_matrix(all_labels, all_preds)\n",
    "\n",
    "# Define class names based on your dataset\n",
    "class_names = ['Real', 'Fake']  # 0 = Real, 1 = Fake\n",
    "\n",
    "# Plot confusion matrix and save to file\n",
    "plt.figure(figsize=(8, 6))\n",
    "disp = ConfusionMatrixDisplay(confusion_matrix=cm, display_labels=class_names)\n",
    "disp.plot(cmap=plt.cm.Blues, values_format='d')\n",
    "plt.title('Confusion Matrix for Voice Detector')\n",
    "plt.savefig('confusion_matrix.png')"
   ]
  },
  {
   "cell_type": "code",
   "execution_count": 7,
   "id": "e4802a9b",
   "metadata": {},
   "outputs": [],
   "source": [
    "class GenderVoiceDataset(Dataset):\n",
    "    def __init__(self, real_dir, fake_dir, transform, max_frames=100):\n",
    "        self.file_paths = []\n",
    "        self.labels = []\n",
    "        for folder in [real_dir, fake_dir]:\n",
    "            for f in os.listdir(folder):\n",
    "                f_lower = f.lower()\n",
    "                if not f_lower.endswith('.wav'):\n",
    "                    continue\n",
    "                if \"_female\" in f_lower:\n",
    "                    self.file_paths.append(os.path.join(folder, f))\n",
    "                    self.labels.append(0)  # Female\n",
    "                elif \"_male\" in f_lower:\n",
    "                    self.file_paths.append(os.path.join(folder, f))\n",
    "                    self.labels.append(1)  # Male\n",
    "        self.transform = transform\n",
    "        self.max_frames = max_frames\n",
    "\n",
    "    def __len__(self):\n",
    "        return len(self.file_paths)\n",
    "\n",
    "    def __getitem__(self, idx):\n",
    "        filepath = self.file_paths[idx]\n",
    "        label = self.labels[idx]\n",
    "        waveform, sr = torchaudio.load(filepath)\n",
    "        waveform = waveform.mean(dim=0, keepdim=True)\n",
    "        if sr != 16000:\n",
    "            waveform = torchaudio.transforms.Resample(sr, 16000)(waveform)\n",
    "        mfcc = self.transform(waveform)\n",
    "        if mfcc.size(2) < self.max_frames:\n",
    "            pad_amt = self.max_frames - mfcc.size(2)\n",
    "            mfcc = nn.functional.pad(mfcc, (0, pad_amt))\n",
    "        else:\n",
    "            mfcc = mfcc[:, :, :self.max_frames]\n",
    "        return mfcc, label\n"
   ]
  },
  {
   "cell_type": "code",
   "execution_count": 8,
   "id": "5f2bd815",
   "metadata": {},
   "outputs": [],
   "source": [
    "# Cell 3: CNN Model Definition\n",
    "class GenderCNN(nn.Module):\n",
    "    def __init__(self):\n",
    "        super(GenderCNN, self).__init__()\n",
    "        self.conv1 = nn.Conv2d(1, 32, (3, 3), padding=1)\n",
    "        self.pool1 = nn.MaxPool2d((2, 2))\n",
    "        self.conv2 = nn.Conv2d(32, 64, (3, 3), padding=1)\n",
    "        self.pool2 = nn.MaxPool2d((2, 2))\n",
    "        self.conv3 = nn.Conv2d(64, 128, (3, 3), padding=1)\n",
    "        self.pool3 = nn.MaxPool2d((2, 2))\n",
    "        self.fc1 = nn.Linear(128 * 5 * 12, 128)  # For (n_mfcc=40, max_frames=100)\n",
    "        self.dropout = nn.Dropout(0.5)\n",
    "        self.fc2 = nn.Linear(128, 2)  # Binary classes\n",
    "\n",
    "    def forward(self, x):\n",
    "        x = self.pool1(torch.relu(self.conv1(x)))\n",
    "        x = self.pool2(torch.relu(self.conv2(x)))\n",
    "        x = self.pool3(torch.relu(self.conv3(x)))\n",
    "        x = x.view(x.size(0), -1)\n",
    "        x = torch.relu(self.fc1(x))\n",
    "        x = self.dropout(x)\n",
    "        x = self.fc2(x)\n",
    "        return x\n"
   ]
  },
  {
   "cell_type": "code",
   "execution_count": 9,
   "id": "065f29f5",
   "metadata": {},
   "outputs": [],
   "source": [
    "# Cell 4: Config and Data Preparation\n",
    "real_dir = r\"C:\\Users\\nikhi\\OneDrive\\Desktop\\dsp\\Deepfake\\KAGGLE\\Audio\\Real\"\n",
    "fake_dir = r\"C:\\Users\\nikhi\\OneDrive\\Desktop\\dsp\\Deepfake\\KAGGLE\\Audio\\Fake\"\n",
    "sample_rate = 16000\n",
    "n_mfcc = 40\n",
    "max_frames = 100\n",
    "batch_size = 4\n",
    "\n",
    "mfcc_transform = torchaudio.transforms.MFCC(\n",
    "    sample_rate=sample_rate,\n",
    "    n_mfcc=n_mfcc,\n",
    "    melkwargs={\"n_fft\": 400, \"hop_length\": 160, \"n_mels\": 40}\n",
    ")\n",
    "\n",
    "dataset = GenderVoiceDataset(real_dir, fake_dir, mfcc_transform, max_frames)\n",
    "class_counts = np.bincount(dataset.labels)\n",
    "class_weights = 1.0 / class_counts\n",
    "sample_weights = [class_weights[label] for label in dataset.labels]\n",
    "sampler = WeightedRandomSampler(sample_weights, num_samples=len(sample_weights), replacement=True)\n",
    "dataloader = DataLoader(dataset, batch_size=batch_size, sampler=sampler)\n"
   ]
  },
  {
   "cell_type": "code",
   "execution_count": 10,
   "id": "813dcbdc",
   "metadata": {},
   "outputs": [
    {
     "name": "stdout",
     "output_type": "stream",
     "text": [
      "Loaded model weights from gender_detector.pth\n"
     ]
    }
   ],
   "source": [
    "# 1. Instantiate the model\n",
    "model = GenderCNN().to(device)\n",
    "\n",
    "# 2. Load the saved weights\n",
    "model.load_state_dict(torch.load(\"gender_detector.pth\"))\n",
    "print(\"Loaded model weights from gender_detector.pth\")\n",
    "\n",
    "# 3. Set up loss and optimizer\n",
    "criterion = nn.CrossEntropyLoss()\n",
    "optimizer = optim.Adam(model.parameters(), lr=0.001)"
   ]
  },
  {
   "cell_type": "code",
   "execution_count": 16,
   "id": "3b8d70c3",
   "metadata": {},
   "outputs": [
    {
     "name": "stdout",
     "output_type": "stream",
     "text": [
      "\n",
      "Epoch 1/25\n"
     ]
    },
    {
     "name": "stderr",
     "output_type": "stream",
     "text": [
      "Training: 100%|██████████| 16/16 [00:30<00:00,  1.88s/batch]\n"
     ]
    },
    {
     "name": "stdout",
     "output_type": "stream",
     "text": [
      "Epoch 1 Completed - Loss: 0.1616, Accuracy: 95.31%\n",
      "\n",
      "Epoch 2/25\n"
     ]
    },
    {
     "name": "stderr",
     "output_type": "stream",
     "text": [
      "Training: 100%|██████████| 16/16 [00:24<00:00,  1.55s/batch]\n"
     ]
    },
    {
     "name": "stdout",
     "output_type": "stream",
     "text": [
      "Epoch 2 Completed - Loss: 0.0079, Accuracy: 100.00%\n",
      "\n",
      "Epoch 3/25\n"
     ]
    },
    {
     "name": "stderr",
     "output_type": "stream",
     "text": [
      "Training: 100%|██████████| 16/16 [00:24<00:00,  1.56s/batch]\n"
     ]
    },
    {
     "name": "stdout",
     "output_type": "stream",
     "text": [
      "Epoch 3 Completed - Loss: 0.0750, Accuracy: 96.88%\n",
      "\n",
      "Epoch 4/25\n"
     ]
    },
    {
     "name": "stderr",
     "output_type": "stream",
     "text": [
      "Training: 100%|██████████| 16/16 [00:24<00:00,  1.55s/batch]\n"
     ]
    },
    {
     "name": "stdout",
     "output_type": "stream",
     "text": [
      "Epoch 4 Completed - Loss: 0.0005, Accuracy: 100.00%\n",
      "\n",
      "Epoch 5/25\n"
     ]
    },
    {
     "name": "stderr",
     "output_type": "stream",
     "text": [
      "Training: 100%|██████████| 16/16 [00:28<00:00,  1.80s/batch]\n"
     ]
    },
    {
     "name": "stdout",
     "output_type": "stream",
     "text": [
      "Epoch 5 Completed - Loss: 0.0001, Accuracy: 100.00%\n",
      "\n",
      "Epoch 6/25\n"
     ]
    },
    {
     "name": "stderr",
     "output_type": "stream",
     "text": [
      "Training: 100%|██████████| 16/16 [00:25<00:00,  1.58s/batch]\n"
     ]
    },
    {
     "name": "stdout",
     "output_type": "stream",
     "text": [
      "Epoch 6 Completed - Loss: 0.4631, Accuracy: 92.19%\n",
      "\n",
      "Epoch 7/25\n"
     ]
    },
    {
     "name": "stderr",
     "output_type": "stream",
     "text": [
      "Training: 100%|██████████| 16/16 [00:23<00:00,  1.44s/batch]\n"
     ]
    },
    {
     "name": "stdout",
     "output_type": "stream",
     "text": [
      "Epoch 7 Completed - Loss: 0.1685, Accuracy: 96.88%\n",
      "\n",
      "Epoch 8/25\n"
     ]
    },
    {
     "name": "stderr",
     "output_type": "stream",
     "text": [
      "Training: 100%|██████████| 16/16 [00:22<00:00,  1.39s/batch]\n"
     ]
    },
    {
     "name": "stdout",
     "output_type": "stream",
     "text": [
      "Epoch 8 Completed - Loss: 0.3776, Accuracy: 93.75%\n",
      "\n",
      "Epoch 9/25\n"
     ]
    },
    {
     "name": "stderr",
     "output_type": "stream",
     "text": [
      "Training: 100%|██████████| 16/16 [00:25<00:00,  1.58s/batch]\n"
     ]
    },
    {
     "name": "stdout",
     "output_type": "stream",
     "text": [
      "Epoch 9 Completed - Loss: 0.0733, Accuracy: 96.88%\n",
      "\n",
      "Epoch 10/25\n"
     ]
    },
    {
     "name": "stderr",
     "output_type": "stream",
     "text": [
      "Training: 100%|██████████| 16/16 [00:28<00:00,  1.75s/batch]\n"
     ]
    },
    {
     "name": "stdout",
     "output_type": "stream",
     "text": [
      "Epoch 10 Completed - Loss: 0.0300, Accuracy: 98.44%\n",
      "\n",
      "Epoch 11/25\n"
     ]
    },
    {
     "name": "stderr",
     "output_type": "stream",
     "text": [
      "Training: 100%|██████████| 16/16 [00:25<00:00,  1.57s/batch]\n"
     ]
    },
    {
     "name": "stdout",
     "output_type": "stream",
     "text": [
      "Epoch 11 Completed - Loss: 0.0678, Accuracy: 98.44%\n",
      "\n",
      "Epoch 12/25\n"
     ]
    },
    {
     "name": "stderr",
     "output_type": "stream",
     "text": [
      "Training: 100%|██████████| 16/16 [00:23<00:00,  1.44s/batch]\n"
     ]
    },
    {
     "name": "stdout",
     "output_type": "stream",
     "text": [
      "Epoch 12 Completed - Loss: 0.0217, Accuracy: 98.44%\n",
      "\n",
      "Epoch 13/25\n"
     ]
    },
    {
     "name": "stderr",
     "output_type": "stream",
     "text": [
      "Training: 100%|██████████| 16/16 [00:24<00:00,  1.51s/batch]\n"
     ]
    },
    {
     "name": "stdout",
     "output_type": "stream",
     "text": [
      "Epoch 13 Completed - Loss: 0.0517, Accuracy: 96.88%\n",
      "\n",
      "Epoch 14/25\n"
     ]
    },
    {
     "name": "stderr",
     "output_type": "stream",
     "text": [
      "Training: 100%|██████████| 16/16 [00:25<00:00,  1.59s/batch]\n"
     ]
    },
    {
     "name": "stdout",
     "output_type": "stream",
     "text": [
      "Epoch 14 Completed - Loss: 0.0951, Accuracy: 98.44%\n",
      "\n",
      "Epoch 15/25\n"
     ]
    },
    {
     "name": "stderr",
     "output_type": "stream",
     "text": [
      "Training: 100%|██████████| 16/16 [00:24<00:00,  1.51s/batch]\n"
     ]
    },
    {
     "name": "stdout",
     "output_type": "stream",
     "text": [
      "Epoch 15 Completed - Loss: 0.0229, Accuracy: 98.44%\n",
      "\n",
      "Epoch 16/25\n"
     ]
    },
    {
     "name": "stderr",
     "output_type": "stream",
     "text": [
      "Training: 100%|██████████| 16/16 [00:24<00:00,  1.56s/batch]\n"
     ]
    },
    {
     "name": "stdout",
     "output_type": "stream",
     "text": [
      "Epoch 16 Completed - Loss: 0.0011, Accuracy: 100.00%\n",
      "\n",
      "Epoch 17/25\n"
     ]
    },
    {
     "name": "stderr",
     "output_type": "stream",
     "text": [
      "Training: 100%|██████████| 16/16 [00:23<00:00,  1.45s/batch]\n"
     ]
    },
    {
     "name": "stdout",
     "output_type": "stream",
     "text": [
      "Epoch 17 Completed - Loss: 0.0023, Accuracy: 100.00%\n",
      "\n",
      "Epoch 18/25\n"
     ]
    },
    {
     "name": "stderr",
     "output_type": "stream",
     "text": [
      "Training: 100%|██████████| 16/16 [00:27<00:00,  1.70s/batch]\n"
     ]
    },
    {
     "name": "stdout",
     "output_type": "stream",
     "text": [
      "Epoch 18 Completed - Loss: 0.0001, Accuracy: 100.00%\n",
      "\n",
      "Epoch 19/25\n"
     ]
    },
    {
     "name": "stderr",
     "output_type": "stream",
     "text": [
      "Training: 100%|██████████| 16/16 [00:22<00:00,  1.40s/batch]\n"
     ]
    },
    {
     "name": "stdout",
     "output_type": "stream",
     "text": [
      "Epoch 19 Completed - Loss: 0.0000, Accuracy: 100.00%\n",
      "\n",
      "Epoch 20/25\n"
     ]
    },
    {
     "name": "stderr",
     "output_type": "stream",
     "text": [
      "Training: 100%|██████████| 16/16 [00:23<00:00,  1.46s/batch]\n"
     ]
    },
    {
     "name": "stdout",
     "output_type": "stream",
     "text": [
      "Epoch 20 Completed - Loss: 0.0002, Accuracy: 100.00%\n",
      "\n",
      "Epoch 21/25\n"
     ]
    },
    {
     "name": "stderr",
     "output_type": "stream",
     "text": [
      "Training: 100%|██████████| 16/16 [00:27<00:00,  1.72s/batch]\n"
     ]
    },
    {
     "name": "stdout",
     "output_type": "stream",
     "text": [
      "Epoch 21 Completed - Loss: 0.0000, Accuracy: 100.00%\n",
      "\n",
      "Epoch 22/25\n"
     ]
    },
    {
     "name": "stderr",
     "output_type": "stream",
     "text": [
      "Training: 100%|██████████| 16/16 [00:24<00:00,  1.53s/batch]\n"
     ]
    },
    {
     "name": "stdout",
     "output_type": "stream",
     "text": [
      "Epoch 22 Completed - Loss: 0.0005, Accuracy: 100.00%\n",
      "\n",
      "Epoch 23/25\n"
     ]
    },
    {
     "name": "stderr",
     "output_type": "stream",
     "text": [
      "Training: 100%|██████████| 16/16 [00:24<00:00,  1.53s/batch]\n"
     ]
    },
    {
     "name": "stdout",
     "output_type": "stream",
     "text": [
      "Epoch 23 Completed - Loss: 0.0000, Accuracy: 100.00%\n",
      "\n",
      "Epoch 24/25\n"
     ]
    },
    {
     "name": "stderr",
     "output_type": "stream",
     "text": [
      "Training: 100%|██████████| 16/16 [00:23<00:00,  1.45s/batch]\n"
     ]
    },
    {
     "name": "stdout",
     "output_type": "stream",
     "text": [
      "Epoch 24 Completed - Loss: 0.0043, Accuracy: 100.00%\n",
      "\n",
      "Epoch 25/25\n"
     ]
    },
    {
     "name": "stderr",
     "output_type": "stream",
     "text": [
      "Training: 100%|██████████| 16/16 [00:21<00:00,  1.35s/batch]"
     ]
    },
    {
     "name": "stdout",
     "output_type": "stream",
     "text": [
      "Epoch 25 Completed - Loss: 0.0008, Accuracy: 100.00%\n",
      "\n",
      "Best Accuracy: 100.00% at Epoch 2\n"
     ]
    },
    {
     "name": "stderr",
     "output_type": "stream",
     "text": [
      "\n"
     ]
    }
   ],
   "source": [
    "# Cell 5: Model Instantiation and Training\n",
    "num_epochs = 25\n",
    "best_acc = 0.0\n",
    "best_epoch = 0\n",
    "\n",
    "for epoch in range(num_epochs):\n",
    "    model.train()\n",
    "    running_loss = 0.0\n",
    "    correct = 0\n",
    "    total = 0\n",
    "    print(f\"\\nEpoch {epoch+1}/{num_epochs}\")\n",
    "    \n",
    "    for inputs, labels in tqdm(dataloader, desc=\"Training\", unit=\"batch\"):\n",
    "        inputs, labels = inputs.to(device), labels.to(device)\n",
    "        optimizer.zero_grad()\n",
    "        outputs = model(inputs)\n",
    "        loss = criterion(outputs, labels)\n",
    "        loss.backward()\n",
    "        optimizer.step()\n",
    "        \n",
    "        running_loss += loss.item() * inputs.size(0)\n",
    "        _, preds = torch.max(outputs, 1)\n",
    "        correct += (preds == labels).sum().item()\n",
    "        total += labels.size(0)\n",
    "    \n",
    "    epoch_loss = running_loss / total\n",
    "    epoch_acc = 100.0 * correct / total\n",
    "    print(f\"Epoch {epoch+1} Completed - Loss: {epoch_loss:.4f}, Accuracy: {epoch_acc:.2f}%\")\n",
    "    \n",
    "    if epoch_acc > best_acc:\n",
    "        best_acc = epoch_acc\n",
    "        best_epoch = epoch + 1\n",
    "\n",
    "print(f\"\\nBest Accuracy: {best_acc:.2f}% at Epoch {best_epoch}\")\n"
   ]
  },
  {
   "cell_type": "code",
   "execution_count": 18,
   "id": "c7f71733",
   "metadata": {},
   "outputs": [
    {
     "name": "stdout",
     "output_type": "stream",
     "text": [
      "Model saved as gender_detector.pth\n"
     ]
    }
   ],
   "source": [
    "# Save the trained model\n",
    "torch.save(model.state_dict(), \"gender_detector.pth\")\n",
    "print(\"Model saved as gender_detector.pth\")"
   ]
  },
  {
   "cell_type": "code",
   "execution_count": 19,
   "id": "6d549b78",
   "metadata": {},
   "outputs": [],
   "source": [
    "# Cell 6: Gender Inference Function\n",
    "def predict_gender(file_path, model, transform, max_frames=100):\n",
    "    model.eval()\n",
    "    waveform, sr = torchaudio.load(file_path)\n",
    "    waveform = waveform.mean(dim=0, keepdim=True)\n",
    "    if sr != 16000:\n",
    "        waveform = torchaudio.transforms.Resample(sr, 16000)(waveform)\n",
    "    mfcc = transform(waveform)\n",
    "    if mfcc.size(2) < max_frames:\n",
    "        pad_amt = max_frames - mfcc.size(2)\n",
    "        mfcc = nn.functional.pad(mfcc, (0, pad_amt))\n",
    "    else:\n",
    "        mfcc = mfcc[:, :, :max_frames]\n",
    "\n",
    "    mfcc = mfcc.unsqueeze(0).to(device)  # Add batch dimension\n",
    "\n",
    "    with torch.no_grad():\n",
    "        output = model(mfcc)\n",
    "        _, pred = torch.max(output, 1)\n",
    "        label = \"Male\" if pred.item() == 1 else \"Female\"\n",
    "    return label\n"
   ]
  },
  {
   "cell_type": "code",
   "execution_count": 56,
   "id": "d448f22a",
   "metadata": {},
   "outputs": [
    {
     "name": "stdout",
     "output_type": "stream",
     "text": [
      "Loaded model from gender_detector.pth\n",
      "Predicted Gender: Female\n"
     ]
    }
   ],
   "source": [
    "# Cell 7: Load Model and Example Prediction\n",
    "model = GenderCNN().to(device)\n",
    "model.load_state_dict(torch.load(\"gender_detector.pth\"))\n",
    "model.eval()\n",
    "print(\"Loaded model from gender_detector.pth\")\n",
    "\n",
    "# Example usage\n",
    "file_path = r\"C:\\Users\\nikhi\\OneDrive\\Desktop\\dsp\\Deepfake\\KAGGLE\\Audio\\Fake\\fake_female2.wav\"\n",
    "prediction = predict_gender(file_path, model, mfcc_transform)\n",
    "print(f\"Predicted Gender: {prediction}\")\n"
   ]
  },
  {
   "cell_type": "code",
   "execution_count": 11,
   "id": "5591413d",
   "metadata": {},
   "outputs": [
    {
     "data": {
      "text/plain": [
       "<Figure size 800x600 with 0 Axes>"
      ]
     },
     "metadata": {},
     "output_type": "display_data"
    },
    {
     "data": {
      "image/png": "[encoded data removed]",
      "text/plain": [
       "<Figure size 640x480 with 2 Axes>"
      ]
     },
     "metadata": {},
     "output_type": "display_data"
    }
   ],
   "source": [
    "import numpy as np\n",
    "import matplotlib.pyplot as plt\n",
    "from sklearn.metrics import confusion_matrix, ConfusionMatrixDisplay\n",
    "import torch\n",
    "from torch.utils.data import DataLoader\n",
    "\n",
    "# Create a DataLoader for evaluation (without sampler for unbiased evaluation)\n",
    "eval_dataloader = DataLoader(dataset, batch_size=batch_size, shuffle=False)\n",
    "\n",
    "# Set model to evaluation mode\n",
    "model.eval()\n",
    "\n",
    "# Collect predictions and true labels\n",
    "all_preds = []\n",
    "all_labels = []\n",
    "\n",
    "with torch.no_grad():\n",
    "    for inputs, labels in eval_dataloader:\n",
    "        inputs, labels = inputs.to(device), labels.to(device)\n",
    "        outputs = model(inputs)\n",
    "        _, preds = torch.max(outputs, 1)\n",
    "        all_preds.extend(preds.cpu().numpy())\n",
    "        all_labels.extend(labels.cpu().numpy())\n",
    "\n",
    "# Compute confusion matrix\n",
    "cm = confusion_matrix(all_labels, all_preds)\n",
    "\n",
    "# Define class names based on your dataset\n",
    "class_names = ['Female', 'Male']  # 0 = Female, 1 = Male\n",
    "\n",
    "# Plot confusion matrix and save to file\n",
    "plt.figure(figsize=(8, 6))\n",
    "disp = ConfusionMatrixDisplay(confusion_matrix=cm, display_labels=class_names)\n",
    "disp.plot(cmap=plt.cm.Blues, values_format='d')\n",
    "plt.title('Confusion Matrix for Gender Voice Detector')\n",
    "plt.savefig('gender_confusion_matrix.png')"
   ]
  },
  {
   "cell_type": "code",
   "execution_count": 21,
   "id": "07654016",
   "metadata": {},
   "outputs": [
    {
     "name": "stdout",
     "output_type": "stream",
     "text": [
      "Deepfake Prediction: Real, Gender Prediction: Male\n"
     ]
    }
   ],
   "source": [
    "# ------------------------- Combined Deepfake & Gender Prediction -------------------------\n",
    "import torch\n",
    "import torchaudio\n",
    "import torch.nn.functional as F\n",
    "\n",
    "# Load Deepfake model\n",
    "deepfake_model = CNNVoiceDetector().to(device)\n",
    "deepfake_model.load_state_dict(torch.load(\"deepfake_voice_detector.pth\", map_location=device))\n",
    "deepfake_model.eval()\n",
    "\n",
    "# Load Gender model\n",
    "gender_model = GenderCNN().to(device)\n",
    "gender_model.load_state_dict(torch.load(\"gender_detector.pth\", map_location=device))\n",
    "gender_model.eval()\n",
    "\n",
    "def combined_predict(file_path, transform, max_frames=100):\n",
    "    try:\n",
    "        waveform, sr = torchaudio.load(file_path)\n",
    "    except Exception as e:\n",
    "        return f\"Error loading audio: {e}\"\n",
    "    \n",
    "    waveform = waveform.mean(dim=0, keepdim=True)\n",
    "    if sr != 16000:\n",
    "        waveform = torchaudio.transforms.Resample(sr, 16000)(waveform)\n",
    "    mfcc = transform(waveform)\n",
    "    if mfcc.size(2) < max_frames:\n",
    "        mfcc = F.pad(mfcc, (0, max_frames - mfcc.size(2)))\n",
    "    else:\n",
    "        mfcc = mfcc[:, :, :max_frames]\n",
    "    \n",
    "    mfcc = mfcc.unsqueeze(0).to(device)\n",
    "\n",
    "    # Deepfake prediction\n",
    "    with torch.no_grad():\n",
    "        df_output = deepfake_model(mfcc)\n",
    "        _, df_pred = torch.max(df_output, 1)\n",
    "        df_label = \"Real\" if df_pred.item() == 0 else \"Fake\"\n",
    "    \n",
    "    # Gender prediction\n",
    "    with torch.no_grad():\n",
    "        gender_output = gender_model(mfcc)\n",
    "        _, gender_pred = torch.max(gender_output, 1)\n",
    "        gender_label = \"Female\" if gender_pred.item() == 0 else \"Male\"\n",
    "    \n",
    "    return df_label, gender_label\n",
    "\n",
    "# Example usage on new file\n",
    "file_path = r\"linus-original-DEMO.mp3\"  # Change to your file\n",
    "df_label, gender_label = combined_predict(file_path, mfcc_transform)\n",
    "print(f\"Deepfake Prediction: {df_label}, Gender Prediction: {gender_label}\")\n",
    "\n"
   ]
  }
 ],
 "metadata": {
  "kernelspec": {
   "display_name": "Python 3",
   "language": "python",
   "name": "python3"
  },
  "language_info": {
   "codemirror_mode": {
    "name": "ipython",
    "version": 3
   },
   "file_extension": ".py",
   "mimetype": "text/x-python",
   "name": "python",
   "nbconvert_exporter": "python",
   "pygments_lexer": "ipython3",
   "version": "3.11.9"
  }
 },
 "nbformat": 4,
 "nbformat_minor": 5
}
